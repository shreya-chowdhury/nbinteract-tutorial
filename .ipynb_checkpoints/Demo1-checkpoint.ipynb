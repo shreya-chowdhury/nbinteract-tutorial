{
 "cells": [
  {
   "cell_type": "code",
   "execution_count": 1,
   "metadata": {},
   "outputs": [],
   "source": [
    "import warnings\n",
    "warnings.filterwarnings('ignore')"
   ]
  },
  {
   "cell_type": "code",
   "execution_count": 2,
   "metadata": {},
   "outputs": [],
   "source": [
    "import pandas as pd \n",
    "import matplotlib.pyplot as plt\n",
    "import seaborn as sns\n",
    "#%matplotlib widget\n",
    "%matplotlib widget\n",
    "import ipywidgets as widgets\n",
    "from ipywidgets import interact\n",
    "import numpy as np\n",
    "from IPython.display import display, clear_output"
   ]
  },
  {
   "cell_type": "code",
   "execution_count": 3,
   "metadata": {},
   "outputs": [],
   "source": [
    "#pip install voila"
   ]
  },
  {
   "cell_type": "code",
   "execution_count": 4,
   "metadata": {},
   "outputs": [],
   "source": [
    "data = pd.read_csv('monthly_uptime_data (1).csv')\n",
    "data['date']= data['Unnamed: 0']\n",
    "data['uptime'] = data[\"{}\"]\n",
    "data = data.drop(columns = ['Unnamed: 0', '{}'])\n",
    "#data"
   ]
  },
  {
   "cell_type": "code",
   "execution_count": 5,
   "metadata": {},
   "outputs": [],
   "source": [
    "sites = [\n",
    "'\"ace-princeton1-prd\"',\n",
    "'\"ace-princeton1-dev\"', \n",
    "'\"ace-stanford1-dev\"', \n",
    "'\"ace-nctu\"', \n",
    "'\"ace-menlo-rasp-pi\"', \n",
    "'\"ace-intel\"', \n",
    "'\"ace-stanford2-prd\"', \n",
    "'\"ace-cornell1-prd\"', \n",
    "'\"ace-tucson\"', \n",
    "'\"ace-stanford1-prd\"'\n",
    "]"
   ]
  },
  {
   "cell_type": "code",
   "execution_count": 6,
   "metadata": {},
   "outputs": [],
   "source": [
    "#data[data['site'] == sites[0]]"
   ]
  },
  {
   "cell_type": "code",
   "execution_count": 7,
   "metadata": {},
   "outputs": [],
   "source": [
    "def plot_uptime(site): \n",
    "#     name = 'name='+ site\n",
    "#     #df = amp_gcp.query_range('sum(count_over_time(aetheredge_e2e_tests_ok{endpoint=\"metrics80\",'+ name +'}[30d]))',\n",
    "#                      #\"2021-03-01T00:00:00Z\", \"2021-07-01T00:00:00Z\", \"30d\")\n",
    "#     df = amp_gcp.query_range('sum(sum_over_time(aetheredge_e2e_tests_ok{endpoint=\"metrics80\", ' + name + '}[30d]))/sum(count_over_time(aetheredge_e2e_tests_ok{endpoint=\"metrics80\",' + name + '}[30d]))',\n",
    "#                      \"2021-03-01T00:00:00Z\", \"2021-07-01T00:00:00Z\", \"30d\")\n",
    "    df = data[data['site'] == site]\n",
    "#     df['date'] = df['index']\n",
    "#     df['uptime'] = df['{}']\n",
    "    #df['percent'] = df['{}']/[44640, 43200,44640]\n",
    "#     df = df.drop(columns = ['{}','index'])\n",
    "    print(\"Monthly Uptimes for \" + str(site))\n",
    "    \n",
    "    sns.set_style(\"darkgrid\");\n",
    "    fig, ax1 = plt.subplots(figsize=(12,9));\n",
    "    ax2 = sns.lineplot(x = df['date'], y = df['uptime'], color = '#4287f5', linewidth = '4');\n",
    "    #ax2 = plt.plot(df['date'], df['uptime'], color = '#4287f5', linewidth = '4');\n",
    "    ax2.set_facecolor('black');\n",
    "    ax2.set_title('Uptime');\n",
    "    plt.xticks(rotation=-45);\n",
    "    \n",
    "    \n",
    "    for x,y in zip(df['date'],df['uptime']):\n",
    "        plt.text(x = x,y = y +.00000002, s = '{:.6g}'.format(y), color = 'white').set_backgroundcolor('#4287f5');\n",
    "    return ax2;"
   ]
  },
  {
   "cell_type": "code",
   "execution_count": 8,
   "metadata": {},
   "outputs": [
    {
     "data": {
      "application/vnd.jupyter.widget-view+json": {
       "model_id": "99d7c90f04544185a20eb14d53ac96d6",
       "version_major": 2,
       "version_minor": 0
      },
      "text/plain": [
       "interactive(children=(Dropdown(description='site', options=('\"ace-princeton1-prd\"', '\"ace-princeton1-dev\"', '\"…"
      ]
     },
     "metadata": {},
     "output_type": "display_data"
    },
    {
     "data": {
      "text/plain": [
       "<function __main__.plot_uptime(site)>"
      ]
     },
     "metadata": {},
     "output_type": "display_data"
    }
   ],
   "source": [
    "display(widgets.interact(plot_uptime, site=sites))"
   ]
  },
  {
   "cell_type": "code",
   "execution_count": 9,
   "metadata": {},
   "outputs": [],
   "source": [
    "!pip freeze > requirements.txt"
   ]
  },
  {
   "cell_type": "code",
   "execution_count": null,
   "metadata": {},
   "outputs": [],
   "source": []
  }
 ],
 "metadata": {
  "kernelspec": {
   "display_name": "Python 3",
   "language": "python",
   "name": "python3"
  },
  "language_info": {
   "codemirror_mode": {
    "name": "ipython",
    "version": 3
   },
   "file_extension": ".py",
   "mimetype": "text/x-python",
   "name": "python",
   "nbconvert_exporter": "python",
   "pygments_lexer": "ipython3",
   "version": "3.8.11"
  }
 },
 "nbformat": 4,
 "nbformat_minor": 4
}
